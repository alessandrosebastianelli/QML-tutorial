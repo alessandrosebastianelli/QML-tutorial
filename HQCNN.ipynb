{
  "cells": [
    {
      "cell_type": "markdown",
      "metadata": {
        "id": "Gb0Sogigom9N"
      },
      "source": [
        "# Hybrid Quantum Convolutional Neural Netwoks for Earth Observation Classification\n",
        "![](https://ieeexplore.ieee.org/mediastore_new/IEEE/content/media/4609443/9656571/9647979/sebas9-3134785-large.gif)\n",
        "\n",
        "\n",
        "Please refer to the following articles to get more insight about this topic:\n",
        "    - Sebastianelli, A., Zaidenberg, D. A., Spiller, D., Le Saux, B., & Ullo, S. L. (2021). On circuit-based hybrid quantum neural networks for remote sensing imagery classification. IEEE Journal of Selected Topics in Applied Earth Observations and Remote Sensing, 15, 565-580.\n",
        "    - Zaidenberg, D. A., Sebastianelli, A., Spiller, D., Le Saux, B., & Ullo, S. L. (2021, July). Advantages and bottlenecks of quantum machine learning for remote sensing. In 2021 IEEE International Geoscience and Remote Sensing Symposium IGARSS (pp. 5680-5683). IEEE.\n",
        "    - Eurosat: A novel dataset and deep learning benchmark for land use and land cover classification. Patrick Helber, Benjamin Bischke, Andreas Dengel, Damian Borth. IEEE Journal of Selected Topics in Applied Earth Observations and Remote Sensing, 2019.\n",
        "    - Introducing EuroSAT: A Novel Dataset and Deep Learning Benchmark for Land Use and Land Cover Classification. Patrick Helber, Benjamin Bischke, Andreas Dengel. 2018 IEEE International Geoscience and Remote Sensing Symposium, 2018.\n",
        "    - https://qiskit.org/documentation/machine-learning/tutorials/index.html\n",
        "    - https://pennylane.ai/qml/demos_qml.html\n"
      ]
    },
    {
      "cell_type": "markdown",
      "metadata": {
        "id": "7YQNPYERPYB5"
      },
      "source": [
        "# Download the dataset\n",
        "\n",
        "In this study, we address the challenge of land use and land cover classification using Sentinel-2 satellite images. The Sentinel-2 satellite images are openly and freely accessible provided in the Earth observation program Copernicus. We present a novel dataset based on Sentinel-2 satellite images covering 13 spectral bands and consisting out of 10 classes with in total 27,000 labeled and geo-referenced images. We provide benchmarks for this novel dataset with its spectral bands using state-of-the-art deep Convolutional Neural Network (CNNs). With the proposed novel dataset, we achieved an overall classification accuracy of 98.57%. The resulting classification system opens a gate towards a number of Earth observation applications. We demonstrate how this classification system can be used for detecting land use and land cover changes and how it can assist in improving geographical maps.\n",
        "\n",
        "Get more information [here](https://github.com/phelber/EuroSAT).\n",
        "\n",
        "![](https://github.com/phelber/EuroSAT/blob/master/eurosat_overview_small.jpg?raw=true)\n",
        "\n",
        "\n"
      ]
    },
    {
      "cell_type": "markdown",
      "metadata": {
        "id": "X5Oxrys2om9P"
      },
      "source": [
        "For this tutorial we are using the EuroSAT RGB dataset, accessible via wget. The following cell takes care of downloading, unzipping and preparing the dataset."
      ]
    },
    {
      "cell_type": "code",
      "execution_count": null,
      "metadata": {
        "id": "o4c7cM2_KoTy"
      },
      "outputs": [],
      "source": [
        "!rm -r /content/EuroSAT.zip\n",
        "!rm -r /content/EuroSAT\n",
        "!wget https://madm.dfki.de/files/sentinel/EuroSAT.zip --no-check-certificate\n",
        "!unzip -q /content/EuroSAT.zip\n",
        "!mv 2750 EuroSAT\n",
        "!ls -l /content/EuroSAT"
      ]
    },
    {
      "cell_type": "markdown",
      "metadata": {
        "id": "rY_6YyKhCfsq"
      },
      "source": [
        "## Cloning repository with base code\n",
        "Basic functions are wrapped in seprated files to keep the notebook clean. Feel free to explore the code."
      ]
    },
    {
      "cell_type": "code",
      "execution_count": null,
      "metadata": {
        "id": "N5BPHQzVCj-U"
      },
      "outputs": [],
      "source": [
        "import sys\n",
        "!rm -r /content/QML-tutorial\n",
        "!git clone https://github.com/alessandrosebastianelli/QML-tutorial.git\n",
        "if '/content/QML-tutorial' not in sys.path: sys.path.append('/content/QML-tutorial')"
      ]
    },
    {
      "cell_type": "markdown",
      "metadata": {
        "id": "DnbQLUEGom9Q"
      },
      "source": [
        "## Install missing packages"
      ]
    },
    {
      "cell_type": "code",
      "execution_count": null,
      "metadata": {
        "id": "I5onxOGy7L-b"
      },
      "outputs": [],
      "source": [
        "!pip install --upgrade hqm --no-deps -q"
      ]
    },
    {
      "cell_type": "markdown",
      "metadata": {
        "id": "hWThPDKS7WAi"
      },
      "source": [
        "# Network train and validation"
      ]
    },
    {
      "cell_type": "code",
      "execution_count": 8,
      "metadata": {
        "id": "Dps5FgGHmnPr",
        "tags": []
      },
      "outputs": [
        {
          "name": "stdout",
          "output_type": "stream",
          "text": [
            "The autoreload extension is already loaded. To reload it, use:\n",
            "  %reload_ext autoreload\n"
          ]
        }
      ],
      "source": [
        "# Suppressing warning\n",
        "import warnings\n",
        "warnings.filterwarnings('ignore')\n",
        "\n",
        "def fxn():\n",
        "    warnings.warn(\"deprecated\", DeprecationWarning)\n",
        "with warnings.catch_warnings():\n",
        "    warnings.simplefilter(\"ignore\")\n",
        "    warnings.filterwarnings('ignore', r'All-NaN (slice|axis) encountered')\n",
        "    fxn()\n",
        "\n",
        "from warnings import filterwarnings\n",
        "filterwarnings(action='ignore', category=DeprecationWarning)\n",
        "\n",
        "import numpy as np\n",
        "np.seterr(all=\"ignore\")\n",
        "\n",
        "from utils.DatasetHandler import DatasetHandler\n",
        "from models.PyTorchModel import PyTorchModel\n",
        "# Configuration file, please read it carefully\n",
        "from config import *\n",
        "\n",
        "import pennylane as qml\n",
        "import torch.optim as optim\n",
        "import torch.nn as nn\n",
        "import torch\n",
        "import os\n",
        "\n",
        "\n",
        "# Allows to reload modified code without restarting the kernel\n",
        "%load_ext autoreload\n",
        "%autoreload 2"
      ]
    },
    {
      "cell_type": "code",
      "execution_count": 5,
      "metadata": {
        "id": "2LCc4XioggIP"
      },
      "outputs": [],
      "source": [
        "from hqm.classification.hcnn import HybridLeNet5\n",
        "from hqm.circuits.angleencoding import BasicEntangledCircuit\n",
        "from hqm.layers.basiclayer import BasicLayer"
      ]
    },
    {
      "cell_type": "markdown",
      "metadata": {
        "id": "zI9hoHbUom9S"
      },
      "source": [
        "Load the dataset"
      ]
    },
    {
      "cell_type": "code",
      "execution_count": 6,
      "metadata": {
        "id": "zGcMqkxq7DOe",
        "tags": []
      },
      "outputs": [
        {
          "name": "stdout",
          "output_type": "stream",
          "text": [
            "Loading Dataset\n",
            "[*] Classes: ['AnnualCrop', 'Forest', 'HerbaceousVegetation', 'Highway', 'Industrial', 'Pasture', 'PermanentCrop', 'Residential', 'River', 'SeaLake']\n",
            "[*] Size: 27000\n",
            "[*] Training Size:   21600\n",
            "[*] Validation Size: 5400\n"
          ]
        }
      ],
      "source": [
        "################################ Initialize Dataset Handler ################################\n",
        "################################ and print classes          ################################\n",
        "print('Loading Dataset')\n",
        "dh = DatasetHandler(DATASET_ROOT)\n",
        "\n",
        "classes = []\n",
        "for i, c in enumerate(dh.classes):\n",
        "    cl = c.split(os.path.sep)[-1]\n",
        "    classes.append(cl)\n",
        "classes.sort()\n",
        "print('[*] Classes: {}'.format(classes))\n",
        "\n",
        "################################ Load image paths and labels ################################\n",
        "imgs, labels = dh.load_paths_labels(DATASET_ROOT, classes=classes)\n",
        "print('[*] Size: {}'.format(len(imgs)))\n",
        "\n",
        "################################# Training-Validation Split #################################\n",
        "tra_imgs, tra_lbls, val_imgs, val_lbls = dh.train_validation_split(imgs, labels, SPLIT_FACTOR)\n",
        "print('[*] Training Size:   {}'.format(len(tra_imgs)))\n",
        "print('[*] Validation Size: {}'.format(len(val_imgs)))"
      ]
    },
    {
      "cell_type": "markdown",
      "metadata": {
        "id": "_3JjTDixom9S"
      },
      "source": [
        "Initialize hybrid model"
      ]
    },
    {
      "cell_type": "code",
      "execution_count": 9,
      "metadata": {
        "id": "hivNSoz2ggIQ"
      },
      "outputs": [],
      "source": [
        "dev = qml.device(\"lightning.qubit\", wires=NUM_QUBITS)\n",
        "qcircuit = BasicEntangledCircuit(n_qubits=NUM_QUBITS, n_layers=NUM_LAYERS, dev=dev)\n",
        "qlayer = BasicLayer(qcircuit, aiframework='torch')"
      ]
    },
    {
      "cell_type": "code",
      "execution_count": 10,
      "metadata": {
        "id": "z3LYqtYxBUPW",
        "tags": []
      },
      "outputs": [
        {
          "name": "stdout",
          "output_type": "stream",
          "text": [
            "Initialize Quantum Hybrid Neural Network\n",
            "Printing Quantum Circuit Parameters\n",
            "[*] Number of Qubits:   4\n",
            "[*] Number of R Layers: 2\n",
            "[*] Number of Shots:    1\n"
          ]
        }
      ],
      "source": [
        "print('Initialize Quantum Hybrid Neural Network')\n",
        "network = HybridLeNet5(qlayer=qlayer, in_shape=(3,64,64), ou_dim=10)\n",
        "\n",
        "optimizer = optim.SGD(network.parameters(), lr=LEARNING_RATE, momentum = MOMENTUM)\n",
        "criterion = nn.CrossEntropyLoss()\n",
        "\n",
        "print('Printing Quantum Circuit Parameters')\n",
        "print('[*] Number of Qubits:   {}'.format(NUM_QUBITS))\n",
        "print('[*] Number of R Layers: {}'.format(NUM_LAYERS))\n",
        "print('[*] Number of Shots:    {}'.format(NUM_SHOTS))\n",
        "\n",
        "# This class wrap a PyTorch model. It is only needed to mask basic function, like model training.\n",
        "model = PyTorchModel(network, criterion, optimizer)"
      ]
    },
    {
      "cell_type": "markdown",
      "metadata": {
        "id": "_2YI-al-om9S"
      },
      "source": [
        "Fit the model"
      ]
    },
    {
      "cell_type": "code",
      "execution_count": 11,
      "metadata": {
        "id": "E9yPZBO4om9T",
        "tags": []
      },
      "outputs": [
        {
          "data": {
            "application/vnd.jupyter.widget-view+json": {
              "model_id": "a578eb6d3a6b48bbad3a826df405418f",
              "version_major": 2,
              "version_minor": 0
            },
            "text/plain": [
              "  0%|          | 0/20 [00:00<?, ?it/s]"
            ]
          },
          "metadata": {},
          "output_type": "display_data"
        }
      ],
      "source": [
        "tra_set = [tra_imgs, tra_lbls]\n",
        "val_set = [val_imgs, val_lbls]\n",
        "model.fit(EPOCHS, tra_set, val_set, classes, batch_size=BATCH_SIZE, es=None, tra_size = None, val_size = None)"
      ]
    },
    {
      "cell_type": "code",
      "execution_count": null,
      "metadata": {
        "id": "uUrCtEp7om9T"
      },
      "outputs": [],
      "source": [
        "model.curves()"
      ]
    },
    {
      "cell_type": "code",
      "execution_count": null,
      "metadata": {
        "id": "I50usU_LtDxj"
      },
      "outputs": [],
      "source": []
    }
  ],
  "metadata": {
    "colab": {
      "provenance": []
    },
    "kernelspec": {
      "display_name": "Python 3 (ipykernel)",
      "language": "python",
      "name": "python3"
    },
    "language_info": {
      "codemirror_mode": {
        "name": "ipython",
        "version": 3
      },
      "file_extension": ".py",
      "mimetype": "text/x-python",
      "name": "python",
      "nbconvert_exporter": "python",
      "pygments_lexer": "ipython3",
      "version": "3.10.13"
    }
  },
  "nbformat": 4,
  "nbformat_minor": 0
}
